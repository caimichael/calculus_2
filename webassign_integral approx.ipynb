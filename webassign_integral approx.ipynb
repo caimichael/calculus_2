{
 "cells": [
  {
   "cell_type": "code",
   "execution_count": 8,
   "metadata": {
    "collapsed": true
   },
   "outputs": [],
   "source": [
    "from math import cos, sqrt, pi, e\n",
    "import numpy as np"
   ]
  },
  {
   "cell_type": "code",
   "execution_count": 28,
   "metadata": {
    "collapsed": true
   },
   "outputs": [],
   "source": [
    "def cosfunc(xlist):\n",
    "    traplist = []\n",
    "    for item in xlist:\n",
    "        integrand = 21*cos(item**2)\n",
    "        traplist.append(integrand)\n",
    "    return traplist"
   ]
  },
  {
   "cell_type": "code",
   "execution_count": 29,
   "metadata": {
    "collapsed": false
   },
   "outputs": [
    {
     "name": "stdout",
     "output_type": "stream",
     "text": [
      "[0, 0.125, 0.25, 0.375, 0.5, 0.625, 0.75, 0.875, 1.0]\n"
     ]
    },
    {
     "data": {
      "text/plain": [
       "list"
      ]
     },
     "execution_count": 29,
     "metadata": {},
     "output_type": "execute_result"
    }
   ],
   "source": [
    "inlist = [0,1/8,2/8,3/8,4/8,5/8,6/8,7/8,8/8]\n",
    "print(inlist)\n",
    "type(inlist)"
   ]
  },
  {
   "cell_type": "code",
   "execution_count": 33,
   "metadata": {
    "collapsed": false
   },
   "outputs": [
    {
     "name": "stdout",
     "output_type": "stream",
     "text": [
      "[ 21.          20.99743658  20.95899772  20.79270036  20.34716086\n",
      "  19.41809649  17.76441448  15.139937    11.34634842]\n"
     ]
    }
   ],
   "source": [
    "traplist = np.array(cosfunc(inlist))\n",
    "print(traplist)"
   ]
  },
  {
   "cell_type": "code",
   "execution_count": 40,
   "metadata": {
    "collapsed": true
   },
   "outputs": [],
   "source": [
    "trapcoeflist = np.array([1/16,1/8,1/8,1/8,1/8,1/8,1/8,1/8,1/16,])"
   ]
  },
  {
   "cell_type": "code",
   "execution_count": 41,
   "metadata": {
    "collapsed": false
   },
   "outputs": [
    {
     "data": {
      "text/plain": [
       "18.948989712265536"
      ]
     },
     "execution_count": 41,
     "metadata": {},
     "output_type": "execute_result"
    }
   ],
   "source": [
    "sum(trapcoeflist * traplist)"
   ]
  },
  {
   "cell_type": "code",
   "execution_count": 42,
   "metadata": {
    "collapsed": true
   },
   "outputs": [],
   "source": [
    "midlist = np.array([1/16,3/16,5/16,7/16,9/16,11/16,13/16,15/16])"
   ]
  },
  {
   "cell_type": "code",
   "execution_count": 44,
   "metadata": {
    "collapsed": false
   },
   "outputs": [],
   "source": [
    "midcoeflist = np.array([1/8,1/8,1/8,1/8,1/8,1/8,1/8,1/8])"
   ]
  },
  {
   "cell_type": "code",
   "execution_count": 47,
   "metadata": {
    "collapsed": false
   },
   "outputs": [
    {
     "data": {
      "text/plain": [
       "19.018019099743622"
      ]
     },
     "execution_count": 47,
     "metadata": {},
     "output_type": "execute_result"
    }
   ],
   "source": [
    "sum(midcoeflist*cosfunc(midlist)) #the midpoint estimate"
   ]
  },
  {
   "cell_type": "markdown",
   "metadata": {},
   "source": [
    "$|ET_n| \\leq \\frac{k(b-a)^3}{12n^2}$ <br>\n",
    "$|EM_n| \\leq \\frac{k(b-a)^3}{24n^2}$"
   ]
  },
  {
   "cell_type": "code",
   "execution_count": 67,
   "metadata": {
    "collapsed": false
   },
   "outputs": [
    {
     "name": "stdout",
     "output_type": "stream",
     "text": [
      "0.826530612244898\n"
     ]
    }
   ],
   "source": [
    "errortn = (81*1)/(12*8^2)\n",
    "print(errortn)"
   ]
  },
  {
   "cell_type": "code",
   "execution_count": 68,
   "metadata": {
    "collapsed": false
   },
   "outputs": [
    {
     "name": "stdout",
     "output_type": "stream",
     "text": [
      "0.4175257731958763\n"
     ]
    }
   ],
   "source": [
    "errormn = (81*1)/(24*8^2)\n",
    "print(errormn)"
   ]
  },
  {
   "cell_type": "code",
   "execution_count": 72,
   "metadata": {
    "collapsed": false
   },
   "outputs": [
    {
     "name": "stdout",
     "output_type": "stream",
     "text": [
      "1.8371134797716209\n"
     ]
    }
   ],
   "source": [
    "n = sqrt(81/24.0001)\n",
    "print(n)"
   ]
  },
  {
   "cell_type": "code",
   "execution_count": 62,
   "metadata": {
    "collapsed": false
   },
   "outputs": [
    {
     "name": "stdout",
     "output_type": "stream",
     "text": [
      "[1.1283791670955126, 1.1171516067889369, 1.084134787104863, 1.031260909618963, 0.9615412988393078, 0.8787825789354448, 0.7872434317142872, 0.6912748604105386, 0.5949857862574689, 0.5019685742403627, 0.4151074974205947]\n"
     ]
    }
   ],
   "source": [
    "#Written homework number 2\n",
    "m = 2/sqrt(pi)\n",
    "erflist = []\n",
    "\n",
    "for i in range(0,11):\n",
    "    erflist.append(m*e**(-((i/10)**2)))\n",
    "\n",
    "np.asarray(erflist)\n",
    "print(erflist)"
   ]
  },
  {
   "cell_type": "code",
   "execution_count": 63,
   "metadata": {
    "collapsed": false
   },
   "outputs": [],
   "source": [
    "multlist = np.array([1,4,2,4,2,4,2,4,2,4,1])\n",
    "coeflist = np.empty(11)\n",
    "coeflist.fill(1/30)"
   ]
  },
  {
   "cell_type": "code",
   "execution_count": 64,
   "metadata": {
    "collapsed": false
   },
   "outputs": [
    {
     "data": {
      "text/plain": [
       "0.84270171307749819"
      ]
     },
     "execution_count": 64,
     "metadata": {},
     "output_type": "execute_result"
    }
   ],
   "source": [
    "sum(coeflist*(multlist*erflist))"
   ]
  },
  {
   "cell_type": "code",
   "execution_count": null,
   "metadata": {
    "collapsed": true
   },
   "outputs": [],
   "source": []
  }
 ],
 "metadata": {
  "kernelspec": {
   "display_name": "Python 3",
   "language": "python",
   "name": "python3"
  },
  "language_info": {
   "codemirror_mode": {
    "name": "ipython",
    "version": 3
   },
   "file_extension": ".py",
   "mimetype": "text/x-python",
   "name": "python",
   "nbconvert_exporter": "python",
   "pygments_lexer": "ipython3",
   "version": "3.5.1"
  }
 },
 "nbformat": 4,
 "nbformat_minor": 0
}
